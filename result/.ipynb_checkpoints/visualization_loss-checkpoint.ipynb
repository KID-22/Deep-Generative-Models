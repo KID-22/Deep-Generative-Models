{
 "cells": [
  {
   "cell_type": "code",
   "execution_count": 1,
   "metadata": {},
   "outputs": [],
   "source": [
    "import pandas as pd\n",
    "import numpy as np\n",
    "import matplotlib.pyplot as plt\n",
    "import seaborn as sns\n",
    "import warnings\n",
    "import time\n",
    "import copy\n",
    "import os\n",
    "warnings.filterwarnings(\"ignore\")\n",
    "#设置jupyter显示多行结果\n",
    "from IPython.core.interactiveshell import InteractiveShell\n",
    "InteractiveShell.ast_node_interactivity = 'all' #默认为'last'\n",
    "# #显示所有列\n",
    "pd.set_option('display.max_columns', None) #原来中间会有部分列的显示被省略\n",
    "# #显示所有行\n",
    "# pd.set_option('display.max_rows', None)\n",
    "#设置value的显示长度为100，默认为50\n",
    "pd.set_option('max_colwidth',100)\n",
    "\n",
    "# # 解决中文问题\n",
    "# plt.rcParams['font.sans-serif'] = ['SimHei']\n",
    "# 解决负号显示问题\n",
    "plt.rcParams['axes.unicode_minus'] = False "
   ]
  },
  {
   "cell_type": "code",
   "execution_count": null,
   "metadata": {},
   "outputs": [],
   "source": [
    "def draw_gan_loss(data_name, model_name):\n",
    "    plt.figure(1,figsize=(6,6)) \n",
    "\n",
    "    plt.scatter(all_data[:10000,0], all_data[:10000,1], s=1)\n",
    "\n",
    "\n",
    "    plt.show()\n",
    "    \n",
    "    plt.plot(np.linspace(1, self.num_epochs, len(self.recon_loss)),\n",
    "             self.recon_loss,\n",
    "             'r')\n",
    "    plt.plot(np.linspace(1, self.num_epochs, len(self.kl_loss)),\n",
    "             self.kl_loss,\n",
    "             'g')\n",
    "\n",
    "    # Add legend, title\n",
    "    plt.rcParams.update({'font.size': 18})\n",
    "    plt.legend(['Reconstruction', 'Kullback-Leibler'])\n",
    "    plt.title(model_name, fontsize=20)\n",
    "    plt.xlabel('x', fontsize=18)\n",
    "    plt.ylabel('y', fontsize=18)\n",
    "    plt.xticks(fontsize=18)\n",
    "    plt.yticks(fontsize=18)\n",
    "\n",
    "    plt.tight_layout()\n",
    "    plt.savefig(\"./\" + data_name + \"/data_layout.jpg\", dpi=300, bbox_inches='tight')\n",
    "    plt.show()"
   ]
  }
 ],
 "metadata": {
  "kernelspec": {
   "display_name": "torch_1_6",
   "language": "python",
   "name": "torch_1_6"
  },
  "language_info": {
   "codemirror_mode": {
    "name": "ipython",
    "version": 3
   },
   "file_extension": ".py",
   "mimetype": "text/x-python",
   "name": "python",
   "nbconvert_exporter": "python",
   "pygments_lexer": "ipython3",
   "version": "3.8.3"
  }
 },
 "nbformat": 4,
 "nbformat_minor": 5
}
